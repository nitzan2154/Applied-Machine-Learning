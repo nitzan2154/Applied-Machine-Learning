{
  "cells": [
    {
      "cell_type": "markdown",
      "id": "f008fdbe-2fe0-48fb-bf66-f6929cec764b",
      "metadata": {
        "id": "f008fdbe-2fe0-48fb-bf66-f6929cec764b"
      },
      "source": [
        "# Final Assignment\n",
        "\n",
        "Nitzan Ron, ID 215451709\n",
        "\n",
        "Adam Zelzer, ID 328489166"
      ]
    },
    {
      "cell_type": "markdown",
      "source": [
        "## Preprocess Dataset"
      ],
      "metadata": {
        "id": "afuKM5q35DAu"
      },
      "id": "afuKM5q35DAu"
    },
    {
      "cell_type": "markdown",
      "source": [
        "### Import Libraries"
      ],
      "metadata": {
        "id": "nNxkk-7aglrL"
      },
      "id": "nNxkk-7aglrL"
    },
    {
      "cell_type": "code",
      "source": [
        "import random\n",
        "import pandas as pd\n",
        "import numpy as np\n",
        "import tensorflow as tf\n",
        "import matplotlib.pyplot as plt\n",
        "from typing import List, Tuple, Dict, Optional\n",
        "seed = 34\n",
        "random.seed(seed)\n",
        "np.random.seed(seed)"
      ],
      "metadata": {
        "id": "8uYigXBypu-R"
      },
      "id": "8uYigXBypu-R",
      "execution_count": 5,
      "outputs": []
    },
    {
      "cell_type": "markdown",
      "id": "031f54b0-560c-4d23-95a7-614f71b40334",
      "metadata": {
        "id": "031f54b0-560c-4d23-95a7-614f71b40334"
      },
      "source": [
        "### Read Dataset"
      ]
    },
    {
      "cell_type": "code",
      "execution_count": 14,
      "id": "1685c817-ef23-48f9-b01e-429d8b5b4638",
      "metadata": {
        "id": "1685c817-ef23-48f9-b01e-429d8b5b4638"
      },
      "outputs": [],
      "source": [
        "path_to_data = \"review_230k.parquet\"\n",
        "data = pd.read_parquet(path_to_data)"
      ]
    },
    {
      "cell_type": "code",
      "execution_count": 15,
      "id": "0d2abf69-dec8-450b-89b5-594a7226cae0",
      "metadata": {
        "id": "0d2abf69-dec8-450b-89b5-594a7226cae0"
      },
      "outputs": [],
      "source": [
        "def create_dataset(data: pd.DataFrame) -> List[str]:\n",
        "    \"\"\" Creates a list of strings, where the title and text are joined together \"\"\"\n",
        "    # Convert to list\n",
        "    return (data[\"title\"] + \" \" + data[\"text\"]).rename(\"text\").tolist()"
      ]
    },
    {
      "cell_type": "code",
      "execution_count": 16,
      "id": "58c43b7a-abf6-4ef2-8f04-e3b7d5d32b3b",
      "metadata": {
        "id": "58c43b7a-abf6-4ef2-8f04-e3b7d5d32b3b"
      },
      "outputs": [],
      "source": [
        "dataset = create_dataset(data)"
      ]
    },
    {
      "cell_type": "markdown",
      "id": "71c4e719-a0c9-4ce3-8feb-e0ec551b4c76",
      "metadata": {
        "id": "71c4e719-a0c9-4ce3-8feb-e0ec551b4c76"
      },
      "source": [
        "### Clean and Standardize Data"
      ]
    },
    {
      "cell_type": "code",
      "source": [
        "# Example for text not in english\n",
        "data.iloc[6420]"
      ],
      "metadata": {
        "colab": {
          "base_uri": "https://localhost:8080/",
          "height": 147
        },
        "id": "IWRFn4kuPWs3",
        "outputId": "d4635f97-ec5d-43fa-acd7-45e96a510bbc"
      },
      "id": "IWRFn4kuPWs3",
      "execution_count": 17,
      "outputs": [
        {
          "output_type": "execute_result",
          "data": {
            "text/plain": [
              "title                                              アストロドーム\n",
              "text     研修でここに泊まりました。\\n近くには名前のとおりアストロドームがあります。\\n目の前には大...\n",
              "Name: 6420, dtype: object"
            ],
            "text/html": [
              "<div>\n",
              "<style scoped>\n",
              "    .dataframe tbody tr th:only-of-type {\n",
              "        vertical-align: middle;\n",
              "    }\n",
              "\n",
              "    .dataframe tbody tr th {\n",
              "        vertical-align: top;\n",
              "    }\n",
              "\n",
              "    .dataframe thead th {\n",
              "        text-align: right;\n",
              "    }\n",
              "</style>\n",
              "<table border=\"1\" class=\"dataframe\">\n",
              "  <thead>\n",
              "    <tr style=\"text-align: right;\">\n",
              "      <th></th>\n",
              "      <th>6420</th>\n",
              "    </tr>\n",
              "  </thead>\n",
              "  <tbody>\n",
              "    <tr>\n",
              "      <th>title</th>\n",
              "      <td>アストロドーム</td>\n",
              "    </tr>\n",
              "    <tr>\n",
              "      <th>text</th>\n",
              "      <td>研修でここに泊まりました。\\n近くには名前のとおりアストロドームがあります。\\n目の前には大...</td>\n",
              "    </tr>\n",
              "  </tbody>\n",
              "</table>\n",
              "</div><br><label><b>dtype:</b> object</label>"
            ]
          },
          "metadata": {},
          "execution_count": 17
        }
      ]
    },
    {
      "cell_type": "code",
      "source": [
        "import re\n",
        "\n",
        "# Regular expression for non-English characters\n",
        "# The characters in the pattern are commonly found in English text\n",
        "NON_ENGLISH_CHARS= r'[^a-zA-Z0-9\\s,.\"\\'!?;:«»()$%&*@#~+=<>`=/\\[\\]\\-_{}|\\\\^`´~£€¥°•…–—‘’“”êéèáàçôòü®¶§©™♥\\U0001F600-\\U0001F64F]'\n",
        "# Regular expression for unwanted characters\n",
        "UNWANTED_CHARS = r\"[^a-z0-9\\s.!?;êéèáàçôòü]\"\n",
        "\n",
        "\n",
        "def is_english(text: str, non_english_chars) -> bool:\n",
        "    \"\"\" Check if the text is likely in English \"\"\"\n",
        "    non_english_regex = re.compile(non_english_chars)\n",
        "    return not bool(non_english_regex.search(text))\n",
        "\n",
        "def lower_text(text: str) -> str:\n",
        "    \"\"\" Convert the text to lowercase \"\"\"\n",
        "    return text.lower()\n",
        "\n",
        "def remove_unwanted_chars(text: str, unwanted_chars: str) -> str:\n",
        "    \"\"\" Remove unwanted characters from the text \"\"\"\n",
        "    return re.sub(unwanted_chars, '', text)\n",
        "\n",
        "def standardize_numbers(text: str) -> str:\n",
        "    \"\"\" Remove unwanted letters after numbers \"\"\"\n",
        "    return re.sub(r'(\\d+)([a-z]+)', r'\\1', text)\n",
        "\n",
        "def standardize_phrase(text: str, phrase_replacements: dict[str, str]) -> str:\n",
        "    \"\"\" Replace common phrases with abbreviations \"\"\"\n",
        "    for phrase, replacement in phrase_replacements.items():\n",
        "        text = text.replace(phrase, replacement)\n",
        "    return text\n",
        "\n",
        "def standardize_chracters(text: str, character_replacements: dict[str, str]) -> str:\n",
        "    \"\"\" Replace accented characters\"\"\"\n",
        "    for char, replacement in character_replacements.items():\n",
        "        text = text.replace(char, replacement)\n",
        "    return text\n",
        "\n",
        "def remove_stop_words(text: str, stop_words: List[str]) -> str:\n",
        "    \"\"\" Remove stop words from the text \"\"\"\n",
        "    pattern = re.compile(r'\\b(' + r'|'.join(stop_words) + r')\\b\\s*')\n",
        "    return pattern.sub('', text)\n",
        "\n",
        "def standardize_spacing(text: str) -> str:\n",
        "    \"\"\" Remove double padding from the text \"\"\"\n",
        "    return re.sub(r'\\s+', ' ', text)\n",
        "\n",
        "def sent_tokenize(text: str) -> List[str]:\n",
        "    \"\"\" Tokenize the text into sentences \"\"\"\n",
        "\n",
        "    tokenized = re.split(r'\\.+|\\?+|\\!+|\\;+', text)\n",
        "\n",
        "    tokenized_lst = []\n",
        "    for i in range(len(tokenized)):\n",
        "      if len(tokenized[i]) > 0:\n",
        "        tokenized_lst.append(tokenized[i].strip())\n",
        "\n",
        "    return tokenized_lst\n",
        "\n",
        "def short_sentence(text: str, threshold: int) -> bool:\n",
        "    \"\"\" Check if the sentence is short \"\"\"\n",
        "    return len(text.split()) < threshold\n"
      ],
      "metadata": {
        "id": "j92lGMqZH2CC"
      },
      "id": "j92lGMqZH2CC",
      "execution_count": 18,
      "outputs": []
    },
    {
      "cell_type": "code",
      "source": [
        "STOP_WORDS = [\n",
        "    'who', 'why', 'which', 'where', 'when', 'what', 'while', 'how', 'if',\n",
        "    'is', 'are', 'am', 'was', 'were', 'will', 'would', 'should', 'could',\n",
        "    'does', 'do', 'did',\n",
        "    'i', 'im', 'it', 'he', 'she', 'we', 'they', 'you', 'us', 'me',\n",
        "    'his', 'her', 'its', 'our', 'your', 'youre', 'their', 'theirs', 'my', 'mine',\n",
        "    'itself', 'myself', 'himself', 'herself', 'themselves', 'yourself', 'yourselves', 'ourselves',\n",
        "    'these', 'theres', 'there', 'then',\n",
        "    'has', 'have', 'had',\n",
        "    'or', 'and', 'also', 'with', 'such', 'just',\n",
        "    'because', 'but', 'about', 'than',\n",
        "    'after', 'during', 'to', 'each', 'from', 'here', 'for', 'this', 'thats',\n",
        "    'a', 'an', 'be', 'of', 'as', 'so', 'in', 'on', 'at',\n",
        "    'through', 'other', 'only', 'both', 'that', 'the', 'can'\n",
        "]\n",
        "\n",
        "PHRASE_REPLACMENTS = {\n",
        "          \"new york\": \"ny\", \"newyork\": \"ny\", \"nyc\": \"ny\" +\" \" +\"city\",\n",
        "          \"new jersey\": \"nj\", \"air conditioning\": \"ac\",\n",
        "          \"cable tv\": \"tv\", \"television\": \"tv\",\n",
        "          \"thank you\": \"thanks\",\"internetwifi\": \"wifi\",\n",
        "          \"wifii\": \"wifi\", \"hotell\": \"hotel\",\n",
        "          \"tooo\": \"too\", \"toooo\": \"too\", \"manhatten\": \"manhattan\", \"manhatton\": \"manhattan\",\n",
        "          \"confortable\": \"comfortable\", \"inroom\": \"in room\", \"anniverary\": \"anniversary\",\n",
        "          \"resturaunt\": \"resturaunt\", \"\\n\": '', \"\\t\": '', \"not\": \"no\",\n",
        "\n",
        "          'isnt': \"is no\", 'arent': \"are no\", 'wasnt': \"was no\", 'werent': \"were no\",\n",
        "          'wont': \"will no\", 'wouldnt': \"would no\", 'doesnt': \"does no\", 'dont': \"do no\",\n",
        "          'didnt': \"did no\", 'shouldnt': \"should no\",'hasnt': \"has no\", 'havent': \"have no\",\n",
        "          'hadnt': \"had no\", 'couldnt': \"could no\", 'aint': \"is no\", 'cant': \"can no\", 'mustnt': \"must no\",\n",
        "\n",
        "          \"two\": \"2\", \"three\": \"3\", \"four\": \"4\", \"five\": \"5\",\n",
        "          \"six\": \"6\", \"seven\": \"7\", \"eight\": \"8\", \"nine\": \"9\", \"ten\": \"10\",\n",
        "          \"twenty\": \"20\", \"thirty\": \"30\", \"forty\": \"40\", \"fifty\": \"50\",\n",
        "          \"sixty\": \"60\", \"seventy\": \"70\", \"eighty\": \"80\", \"ninety\": \"90\",\n",
        "          \"hundred\": \"100\", \"thousand\": \"1000\"\n",
        "         }\n",
        "\n",
        "CHARACTER_REPLACMENTS = {\n",
        "          'á': 'a', 'à': 'a',\n",
        "          'ê': 'e', 'é': 'e', 'è': 'e',\n",
        "          'ç': 'c',\n",
        "          'ô': 'o', 'ò': 'o',\n",
        "          'ü': 'u'\n",
        "         }"
      ],
      "metadata": {
        "id": "B8xgLo_UZlNz"
      },
      "id": "B8xgLo_UZlNz",
      "execution_count": 19,
      "outputs": []
    },
    {
      "cell_type": "code",
      "source": [
        "from tqdm import tqdm\n",
        "\n",
        "def prepare_dataset(dataset: List[str], threshold: int = 2) -> List[str]:\n",
        "    \"\"\" Clean and prepare the dataset before word encoding \"\"\"\n",
        "\n",
        "    processed_dataset = []\n",
        "    for text in tqdm(dataset):\n",
        "      if is_english(text, NON_ENGLISH_CHARS):\n",
        "         text = lower_text(text)\n",
        "         text = remove_unwanted_chars(text, UNWANTED_CHARS)\n",
        "         text = standardize_numbers(text)\n",
        "         text = standardize_phrase(text, PHRASE_REPLACMENTS)\n",
        "         text = standardize_chracters(text, CHARACTER_REPLACMENTS)\n",
        "         text = remove_stop_words(text, STOP_WORDS)\n",
        "         text = standardize_spacing(text)\n",
        "         for sentence in sent_tokenize(text):\n",
        "             if not short_sentence(sentence, threshold):\n",
        "                processed_dataset.append(sentence.split(\" \"))\n",
        "\n",
        "    return processed_dataset\n",
        "\n",
        "prepared_dataset = prepare_dataset(dataset)"
      ],
      "metadata": {
        "colab": {
          "base_uri": "https://localhost:8080/"
        },
        "id": "Th3BllcSZPWb",
        "outputId": "6bb5e27c-9669-476c-a4fb-6ad02e8e441e"
      },
      "id": "Th3BllcSZPWb",
      "execution_count": 20,
      "outputs": [
        {
          "output_type": "stream",
          "name": "stderr",
          "text": [
            "100%|██████████| 230339/230339 [01:27<00:00, 2644.24it/s]\n"
          ]
        }
      ]
    },
    {
      "cell_type": "markdown",
      "id": "86d4fd16-3787-411e-b098-32a1de657f71",
      "metadata": {
        "id": "86d4fd16-3787-411e-b098-32a1de657f71"
      },
      "source": [
        "### Create Vocabulary"
      ]
    },
    {
      "cell_type": "code",
      "source": [
        "VOCABULARY_SIZE = 15000 # Without <unk>\n",
        "MIN_WORD_COUNT = 30"
      ],
      "metadata": {
        "id": "9NfdCT0UGy1h"
      },
      "id": "9NfdCT0UGy1h",
      "execution_count": 21,
      "outputs": []
    },
    {
      "cell_type": "code",
      "source": [
        "def filter_vocab(vocabulary: Dict[str, int], min_word_count: int = 30) -> Dict[str, int]:\n",
        "    \"\"\" Filter the vocabulary based on the word frequency and the stop words list \"\"\"\n",
        "\n",
        "    filtered_vocab = {\n",
        "                      word: count for word, count in vocabulary.items() if\n",
        "                      count > min_word_count\n",
        "                    }\n",
        "    return filtered_vocab\n",
        "\n",
        "def sort_dictionary_by_values(dictionary: Dict[str, int]) -> Dict[str, int]:\n",
        "    \"\"\" Sort the dictionary by values in descending order \"\"\"\n",
        "    return dict(sorted(dictionary.items(), key=lambda item: item[1], reverse=True))\n",
        "\n",
        "def create_word_count_vocabulary(dataset: List[List[str]], max_vocab_size: int,  min_word_count: int = 30) -> Dict[str, int]:\n",
        "    \"\"\" Create a dictionary mapping each word to its respective frequency \"\"\"\n",
        "    word_count = {}\n",
        "    for text in tqdm(dataset):\n",
        "        for word in text:\n",
        "            if word in word_count:\n",
        "                word_count[word] += 1\n",
        "            else:\n",
        "                word_count[word] = 1\n",
        "\n",
        "    # Fliter the vocabulary by frequency by\n",
        "    word_count = filter_vocab(word_count, min_word_count)\n",
        "\n",
        "    # Sort the vocabulary by frequency in descending order\n",
        "    word_count = sort_dictionary_by_values(word_count)\n",
        "\n",
        "    # Limit the vocabulary size\n",
        "    word_count = dict(list(word_count.items())[:max_vocab_size])\n",
        "\n",
        "    return word_count\n",
        "\n",
        "def create_vocabulary(word_count_vocabulary: Dict[str, int]) -> Dict[str, int]:\n",
        "    \"\"\" Create a dictionary mapping each word to its respective frequency \"\"\"\n",
        "\n",
        "    # Create the vocabulary dictionary by giving each word a label\n",
        "    vocabulary = {word: index for index, word in enumerate(word_count_vocabulary.keys())}\n",
        "    vocabulary['<unk>'] = len(vocabulary)\n",
        "\n",
        "    return vocabulary"
      ],
      "metadata": {
        "id": "e63AIQCvGwHI"
      },
      "id": "e63AIQCvGwHI",
      "execution_count": 22,
      "outputs": []
    },
    {
      "cell_type": "code",
      "source": [
        "WORD_COUNT_VOCABULARY = create_word_count_vocabulary(dataset = prepared_dataset, max_vocab_size = VOCABULARY_SIZE, min_word_count = MIN_WORD_COUNT)\n",
        "WORD_COUNT = list(WORD_COUNT_VOCABULARY.values())\n",
        "VOCABULARY = create_vocabulary(word_count_vocabulary = WORD_COUNT_VOCABULARY)\n",
        "REVERSE_VOCABULARY = [word for word in VOCABULARY.keys()]"
      ],
      "metadata": {
        "colab": {
          "base_uri": "https://localhost:8080/"
        },
        "id": "NLzX6WYOhY8Q",
        "outputId": "d1cffe8e-4844-49eb-e1c8-5557c3af7d5c"
      },
      "id": "NLzX6WYOhY8Q",
      "execution_count": 23,
      "outputs": [
        {
          "output_type": "stream",
          "name": "stderr",
          "text": [
            "100%|██████████| 1992378/1992378 [00:06<00:00, 312836.39it/s]\n"
          ]
        }
      ]
    },
    {
      "cell_type": "markdown",
      "source": [
        "### Save Vocabulary"
      ],
      "metadata": {
        "id": "miUdTMCxuvy2"
      },
      "id": "miUdTMCxuvy2"
    },
    {
      "cell_type": "code",
      "source": [
        "import pyarrow\n",
        "import pyarrow.parquet as pq\n",
        "\n",
        "def save_vocabulary(vocabulary: List[str], path: str):\n",
        "    \"\"\"\n",
        "    Save the vocabulary\n",
        "    param: vocabulary: list of tokens\n",
        "    param: path: the path to save the vocabulary\n",
        "    \"\"\"\n",
        "\n",
        "    # Create a table from the vocabulary\n",
        "    table = pyarrow.Table.from_pydict({'word': vocabulary.keys(), 'index': vocabulary.values()})\n",
        "\n",
        "    # Save the table as a Parquet file\n",
        "    pq.write_table(table, path)\n",
        "\n",
        "\n",
        "def load_vocabulary(path: str):\n",
        "    \"\"\"\n",
        "    Load the embeddings from a Parquet file.\n",
        "    param path: the path to the Parquet file containing the vocabulary\n",
        "    return: a dictionary mapping words to their corresponding index\n",
        "    \"\"\"\n",
        "    # Read the table from the Parquet file\n",
        "    table = pq.read_table(path)\n",
        "\n",
        "    # Convert the table columns to lists\n",
        "    words = table['word'].to_pylist()\n",
        "    indeces = table['index'].to_pylist()\n",
        "\n",
        "    # Create a dictionary mapping words to embeddings\n",
        "    vocabulary = dict(zip(words, indeces))\n",
        "\n",
        "    return vocabulary\n",
        "\n",
        "save_vocabulary(VOCABULARY, 'vocabulary.parquet')"
      ],
      "metadata": {
        "id": "ev3vARIMugTZ"
      },
      "id": "ev3vARIMugTZ",
      "execution_count": 32,
      "outputs": []
    },
    {
      "cell_type": "markdown",
      "id": "cdfa0b49-60b8-407e-9d6b-c5eef5f2e28e",
      "metadata": {
        "id": "cdfa0b49-60b8-407e-9d6b-c5eef5f2e28e"
      },
      "source": [
        "### Encode Dataset"
      ]
    },
    {
      "cell_type": "code",
      "source": [
        "def encode_dataset(dataset: List[str], vocabulary: Dict[str, int]) -> List[List[int]]:\n",
        "    \"\"\" Encode each word in the dataset, based on your vocabulary \"\"\"\n",
        "\n",
        "    # Get the unknown word index\n",
        "    unknown_word_index = vocabulary.get('<unk>')\n",
        "\n",
        "    # Encode the dataset\n",
        "    encoded_dataset = [\n",
        "        [\n",
        "         vocabulary.get(word, unknown_word_index)\n",
        "         for word in sentence\n",
        "         ]\n",
        "         for sentence in tqdm(dataset)\n",
        "        ]\n",
        "\n",
        "    return encoded_dataset\n",
        "\n",
        "encoded_dataset = encode_dataset(prepared_dataset, VOCABULARY)"
      ],
      "metadata": {
        "colab": {
          "base_uri": "https://localhost:8080/"
        },
        "id": "qCl7UjbesYnI",
        "outputId": "7e30aba5-0a01-424c-a967-d048a0f8bf83"
      },
      "id": "qCl7UjbesYnI",
      "execution_count": null,
      "outputs": [
        {
          "output_type": "stream",
          "name": "stderr",
          "text": [
            "100%|██████████| 1992378/1992378 [00:11<00:00, 172202.51it/s]\n"
          ]
        }
      ]
    },
    {
      "cell_type": "code",
      "source": [
        "max_length = 40\n",
        "sentence_length = [0]*max_length\n",
        "for lst in encoded_dataset:\n",
        "    if len(lst) < max_length:\n",
        "        sentence_length[len(lst)] += len(lst)\n",
        "\n",
        "plt.bar(range(max_length), sentence_length)\n",
        "plt.xlabel('Sentence Length')\n",
        "plt.ylabel('Number of Words')\n",
        "plt.title('Distribution of Word Count by Sentence Lengths')\n",
        "plt.show()"
      ],
      "metadata": {
        "colab": {
          "base_uri": "https://localhost:8080/",
          "height": 472
        },
        "id": "64qv5g1NWYwC",
        "outputId": "92c7d0b4-dfb5-402f-ae43-e0580f79f47d"
      },
      "id": "64qv5g1NWYwC",
      "execution_count": null,
      "outputs": [
        {
          "output_type": "display_data",
          "data": {
            "text/plain": [
              "<Figure size 640x480 with 1 Axes>"
            ],
            "image/png": "[encoded data removed]"
          },
          "metadata": {}
        }
      ]
    },
    {
      "cell_type": "markdown",
      "source": [
        "To improve on computation times, and make the dataset more regular, we'll limit ourself to a range of sentence lengths. We'll take just around the peak of the graph - 8."
      ],
      "metadata": {
        "id": "MiJSV9dRVKc1"
      },
      "id": "MiJSV9dRVKc1"
    },
    {
      "cell_type": "code",
      "source": [
        "length_sentence_low, length_sentence_high = 7, 9\n",
        "reduced_dataset = [lst for lst in encoded_dataset if (length_sentence_low <= len(lst) <= length_sentence_high)]\n",
        "print(f\"Number of words in final dataset: {sum([sentence_length[l] for l in range(length_sentence_low, length_sentence_high + 1)])}\")"
      ],
      "metadata": {
        "colab": {
          "base_uri": "https://localhost:8080/"
        },
        "id": "oGovnqsPwKYX",
        "outputId": "0c33efa2-bb14-4c69-b833-6db058897a30"
      },
      "id": "oGovnqsPwKYX",
      "execution_count": null,
      "outputs": [
        {
          "output_type": "stream",
          "name": "stdout",
          "text": [
            "Number of words in final dataset: 3749686\n"
          ]
        }
      ]
    },
    {
      "cell_type": "markdown",
      "id": "3d1cb0a0-78a4-469a-8081-f325d97c8974",
      "metadata": {
        "id": "3d1cb0a0-78a4-469a-8081-f325d97c8974"
      },
      "source": [
        "### Generate Positive and Negative Pairs\n",
        "\n",
        "First - We'll calculate the unigram distribution, which is based on word frequency, and use it to calculate positive and negative subsampling distributions."
      ]
    },
    {
      "cell_type": "code",
      "source": [
        "def calculate_unigram_distribution(word_count: List[int]) -> List[float]:\n",
        "    \"\"\"Calculate the unigram distribution U(w)\"\"\"\n",
        "    total_count = sum(word_count)\n",
        "    unigram_distribution = [count/total_count for count in word_count]\n",
        "    return unigram_distribution\n",
        "\n",
        "def positive_subsampling_probabilities(unigram_distribution: List[float],  threshold: float = 1e-5) -> List[float]:\n",
        "    \"\"\" Calculate the positive subsampling distribution, as implemented in the C source code \"\"\"\n",
        "    return [(1+np.sqrt(frequency/threshold))*(threshold/frequency) for frequency in unigram_distribution]\n",
        "\n",
        "def negative_subsampling_probabilities(unigram_distribution: List[float], negative_probabilities_range: int) -> List[float]:\n",
        "    \"\"\" Adjust the unigram distribution by raising it to the 3/4th power, like the word2vec paper authors suggest \"\"\"\n",
        "\n",
        "    # Without <unk> token probability\n",
        "    neg_subsample_probabilities = [prob ** 0.75 for prob in unigram_distribution][1:negative_probabilities_range+1]\n",
        "    total_adjusted = sum(neg_subsample_probabilities)\n",
        "    neg_subsample_probabilities = [prob / total_adjusted for prob in neg_subsample_probabilities]\n",
        "    return neg_subsample_probabilities\n"
      ],
      "metadata": {
        "id": "c1Sun7hWaAVL"
      },
      "id": "c1Sun7hWaAVL",
      "execution_count": null,
      "outputs": []
    },
    {
      "cell_type": "markdown",
      "source": [
        "We'll use these distributions to create positive and negative samples."
      ],
      "metadata": {
        "id": "8To86DSOUTcv"
      },
      "id": "8To86DSOUTcv"
    },
    {
      "cell_type": "code",
      "execution_count": null,
      "id": "O6cgF2zaxbEn",
      "metadata": {
        "id": "O6cgF2zaxbEn"
      },
      "outputs": [],
      "source": [
        "def generate_sequence_positive_pairs(sequence: List[int],\n",
        "                            context_window: int,\n",
        "                            subsampling_probabilities: List[float],\n",
        "                            vocabulary_size: int) \\\n",
        "                            -> List[Tuple[int]]:\n",
        "    \"\"\"Generate positive (target, context) pairs from the encoded dataset.\"\"\"\n",
        "    positive_pairs = []\n",
        "\n",
        "    for i, word_index in enumerate(sequence):\n",
        "      # Check if word is in vocabulary\n",
        "      if word_index < vocabulary_size:\n",
        "        if subsampling_probabilities[word_index] >= random.random():\n",
        "\n",
        "            # Define context window boundaries\n",
        "            window_start = max(0, i - context_window)\n",
        "            window_end = min(len(sequence), i + context_window + 1)\n",
        "\n",
        "            for j in range(window_start, window_end):\n",
        "                if i != j and sequence[j] != vocabulary_size:  # Skip the target word itself and <unk>\n",
        "                    positive_pairs.append((word_index, sequence[j]))\n",
        "\n",
        "    return positive_pairs\n",
        "\n",
        "def generate_negative_samples(number_of_neg_samples: int, context: int, negative_subsample_probabilities: List[float]) -> List[int]:\n",
        "    \"\"\"Generate negative samples for a given positive pair.\"\"\"\n",
        "    negative_probabilities_range = len(negative_subsample_probabilities)\n",
        "    negative_samples = []\n",
        "    while len(negative_samples) < number_of_neg_samples:\n",
        "        negative_sample = np.random.choice(negative_probabilities_range, p = negative_subsample_probabilities) + 1\n",
        "        if negative_sample != context:\n",
        "            negative_samples.append(negative_sample)\n",
        "    return negative_samples"
      ]
    },
    {
      "cell_type": "code",
      "execution_count": null,
      "id": "744b28fc-753a-420c-8e1b-3346e98c0c3b",
      "metadata": {
        "id": "744b28fc-753a-420c-8e1b-3346e98c0c3b"
      },
      "outputs": [],
      "source": [
        "def generate_training_data(encoded_dataset: List[List[int]],\n",
        "                           subsampling_probabilities: List[float],\n",
        "                           negative_subsampling_probabilities: List[float],\n",
        "                           vocabulary_size: int,\n",
        "                           context_window: int,\n",
        "                           number_of_neg_samples: int) \\\n",
        "                           -> Tuple[List[int], List[List[int]], List[List[int]]]:\n",
        "    \"\"\"\n",
        "    Generates three arrays:\n",
        "    targets: target words\n",
        "    contexts: context words\n",
        "    labels: labels for the positive and negative samples\n",
        "    \"\"\"\n",
        "\n",
        "    # Each label consists of one positive sample and number_of_negative_samples negative samples\n",
        "    label = [1] + [0]*number_of_neg_samples\n",
        "\n",
        "    # Elements of each training example are appended to these lists.\n",
        "    targets, contexts, labels = [], [], []\n",
        "    for sequence in tqdm(encoded_dataset):\n",
        "\n",
        "        positive_pairs = generate_sequence_positive_pairs(sequence, context_window, subsampling_probabilities, vocabulary_size)\n",
        "\n",
        "        for target_word, context_word in positive_pairs:\n",
        "\n",
        "            negative_samples = generate_negative_samples(number_of_neg_samples, context_word, negative_subsampling_probabilities)\n",
        "\n",
        "\n",
        "            # Build context and label vectors (for one target word)\n",
        "            context = [context_word] + negative_samples\n",
        "\n",
        "            # Append each element from the training example to global lists\n",
        "            targets.append(target_word)\n",
        "            contexts.append(context)\n",
        "            labels.append(label)\n",
        "\n",
        "    return np.array(targets), np.array(contexts), np.array(labels)"
      ]
    },
    {
      "cell_type": "markdown",
      "source": [
        "According to the authors findings, for large datasets a low number of negative samples (2-5) is sufficient. In addition, since we removes stop words, the context window is decreased from 5, as the original paper suggests, to 2."
      ],
      "metadata": {
        "id": "Ymv2rdIGXPVV"
      },
      "id": "Ymv2rdIGXPVV"
    },
    {
      "cell_type": "code",
      "source": [
        "CONTEXT_WINDOW=3\n",
        "NUMBER_OF_NEG_SAMPLES=4\n",
        "UNIGRAM_DISTRIBUTION = calculate_unigram_distribution(WORD_COUNT)\n",
        "POSITIVE_SUBSAMPLING_PROBABILITIES = positive_subsampling_probabilities(UNIGRAM_DISTRIBUTION)\n",
        "NEGATIVE_PROBABILITIES_RANGE = 1000 # Sample only from these words, to speed up computation\n",
        "NEGATIVE_SUBSAMPLING_PROBABILITIES = negative_subsampling_probabilities(UNIGRAM_DISTRIBUTION, NEGATIVE_PROBABILITIES_RANGE)\n",
        "\n",
        "targets, contexts, labels = generate_training_data(reduced_dataset,\n",
        "                                                   POSITIVE_SUBSAMPLING_PROBABILITIES,\n",
        "                                                   NEGATIVE_SUBSAMPLING_PROBABILITIES,\n",
        "                                                   VOCABULARY_SIZE,\n",
        "                                                   CONTEXT_WINDOW,\n",
        "                                                   NUMBER_OF_NEG_SAMPLES)"
      ],
      "metadata": {
        "colab": {
          "base_uri": "https://localhost:8080/"
        },
        "id": "2N_dF46Qri5q",
        "outputId": "71217b68-f447-416e-ed48-6f22f6277447"
      },
      "id": "2N_dF46Qri5q",
      "execution_count": null,
      "outputs": [
        {
          "output_type": "stream",
          "name": "stderr",
          "text": [
            "100%|██████████| 472639/472639 [30:17<00:00, 260.02it/s]\n"
          ]
        }
      ]
    },
    {
      "cell_type": "code",
      "execution_count": null,
      "id": "e03-1enrTzrI",
      "metadata": {
        "colab": {
          "base_uri": "https://localhost:8080/"
        },
        "id": "e03-1enrTzrI",
        "outputId": "bdde850c-9ac5-43c4-cd6c-11b2edd7f702"
      },
      "outputs": [
        {
          "output_type": "stream",
          "name": "stdout",
          "text": [
            "\n",
            "\n",
            "targets shape:\t (3708646,)\n",
            "contexts shape:\t (3708646, 5)\n",
            "labels shape:\t (3708646, 5)\n"
          ]
        }
      ],
      "source": [
        "print('\\n')\n",
        "print(f\"targets shape:\\t {targets.shape}\")\n",
        "print(f\"contexts shape:\\t {contexts.shape}\")\n",
        "print(f\"labels shape:\\t {labels.shape}\")"
      ]
    },
    {
      "cell_type": "markdown",
      "id": "00c4ab2b-49f3-4a10-9236-c7da3fd79be6",
      "metadata": {
        "id": "00c4ab2b-49f3-4a10-9236-c7da3fd79be6"
      },
      "source": [
        "## Model"
      ]
    },
    {
      "cell_type": "markdown",
      "source": [
        "### Define Model\n"
      ],
      "metadata": {
        "id": "g7Iddrw_yFjS"
      },
      "id": "g7Iddrw_yFjS"
    },
    {
      "cell_type": "code",
      "source": [
        "from tensorflow.keras.layers import Embedding, Input, Reshape, Dot\n",
        "from tensorflow.keras.models import Model\n",
        "\n",
        "def Word2Vec(vocab_size, embedding_dim, n_negative_samples):\n",
        "\n",
        "    # Define the inputs\n",
        "    target_input = Input(shape=(1,), dtype=tf.int32, name='target_input')\n",
        "    context_input = Input(shape=(n_negative_samples+1,), dtype=tf.int32, name='context_input')\n",
        "\n",
        "    # Embedding layers\n",
        "    target_embedding = Embedding(input_dim=vocab_size, output_dim=embedding_dim, name='target_embedding')\n",
        "    context_embedding = Embedding(input_dim=vocab_size, output_dim=embedding_dim, name='context_embedding')\n",
        "\n",
        "    # Embedding lookups\n",
        "    target_vector = target_embedding(target_input)  # Shape: (batch_size, 1, embedding_dim)\n",
        "    context_vectors = context_embedding(context_input)  # Shape: (batch_size, num_negative_samples+1, embedding_dim)\n",
        "\n",
        "    # Compute the dot product between target and context vectors\n",
        "    dot_product = Dot(axes=-1)([context_vectors, target_vector])  # Shape: (batch_size, num_negative_samples+1)\n",
        "\n",
        "    # Define the model\n",
        "    model = Model(inputs=[target_input, context_input], outputs=dot_product, name = \"Word2Vec\")\n",
        "\n",
        "    return model"
      ],
      "metadata": {
        "id": "oV1nBhH60eGH"
      },
      "id": "oV1nBhH60eGH",
      "execution_count": 2,
      "outputs": []
    },
    {
      "cell_type": "code",
      "source": [
        "EMBEDDING_DIMENSION = 128\n",
        "\n",
        "word2vec = Word2Vec(vocab_size=VOCABULARY_SIZE, embedding_dim=EMBEDDING_DIMENSION, n_negative_samples=NUMBER_OF_NEG_SAMPLES)\n",
        "word2vec.summary()"
      ],
      "metadata": {
        "colab": {
          "base_uri": "https://localhost:8080/",
          "height": 361
        },
        "id": "NV1iVj2Y04sA",
        "outputId": "a6de116c-cdbe-47b3-c572-c1bf754adafc"
      },
      "id": "NV1iVj2Y04sA",
      "execution_count": null,
      "outputs": [
        {
          "output_type": "display_data",
          "data": {
            "text/plain": [
              "\u001b[1mModel: \"Word2Vec\"\u001b[0m\n"
            ],
            "text/html": [
              "<pre style=\"white-space:pre;overflow-x:auto;line-height:normal;font-family:Menlo,'DejaVu Sans Mono',consolas,'Courier New',monospace\"><span style=\"font-weight: bold\">Model: \"Word2Vec\"</span>\n",
              "</pre>\n"
            ]
          },
          "metadata": {}
        },
        {
          "output_type": "display_data",
          "data": {
            "text/plain": [
              "┏━━━━━━━━━━━━━━━━━━━━━━━━━━━┳━━━━━━━━━━━━━━━━━━━━━━━━┳━━━━━━━━━━━━━━━━┳━━━━━━━━━━━━━━━━━━━━━━━━┓\n",
              "┃\u001b[1m \u001b[0m\u001b[1mLayer (type)             \u001b[0m\u001b[1m \u001b[0m┃\u001b[1m \u001b[0m\u001b[1mOutput Shape          \u001b[0m\u001b[1m \u001b[0m┃\u001b[1m \u001b[0m\u001b[1m       Param #\u001b[0m\u001b[1m \u001b[0m┃\u001b[1m \u001b[0m\u001b[1mConnected to          \u001b[0m\u001b[1m \u001b[0m┃\n",
              "┡━━━━━━━━━━━━━━━━━━━━━━━━━━━╇━━━━━━━━━━━━━━━━━━━━━━━━╇━━━━━━━━━━━━━━━━╇━━━━━━━━━━━━━━━━━━━━━━━━┩\n",
              "│ context_input             │ (\u001b[38;5;45mNone\u001b[0m, \u001b[38;5;34m5\u001b[0m)              │              \u001b[38;5;34m0\u001b[0m │ -                      │\n",
              "│ (\u001b[38;5;33mInputLayer\u001b[0m)              │                        │                │                        │\n",
              "├───────────────────────────┼────────────────────────┼────────────────┼────────────────────────┤\n",
              "│ target_input (\u001b[38;5;33mInputLayer\u001b[0m) │ (\u001b[38;5;45mNone\u001b[0m, \u001b[38;5;34m1\u001b[0m)              │              \u001b[38;5;34m0\u001b[0m │ -                      │\n",
              "├───────────────────────────┼────────────────────────┼────────────────┼────────────────────────┤\n",
              "│ context_embedding         │ (\u001b[38;5;45mNone\u001b[0m, \u001b[38;5;34m5\u001b[0m, \u001b[38;5;34m128\u001b[0m)         │      \u001b[38;5;34m1,920,000\u001b[0m │ context_input[\u001b[38;5;34m0\u001b[0m][\u001b[38;5;34m0\u001b[0m]    │\n",
              "│ (\u001b[38;5;33mEmbedding\u001b[0m)               │                        │                │                        │\n",
              "├───────────────────────────┼────────────────────────┼────────────────┼────────────────────────┤\n",
              "│ target_embedding          │ (\u001b[38;5;45mNone\u001b[0m, \u001b[38;5;34m1\u001b[0m, \u001b[38;5;34m128\u001b[0m)         │      \u001b[38;5;34m1,920,000\u001b[0m │ target_input[\u001b[38;5;34m0\u001b[0m][\u001b[38;5;34m0\u001b[0m]     │\n",
              "│ (\u001b[38;5;33mEmbedding\u001b[0m)               │                        │                │                        │\n",
              "├───────────────────────────┼────────────────────────┼────────────────┼────────────────────────┤\n",
              "│ dot (\u001b[38;5;33mDot\u001b[0m)                 │ (\u001b[38;5;45mNone\u001b[0m, \u001b[38;5;34m5\u001b[0m, \u001b[38;5;34m1\u001b[0m)           │              \u001b[38;5;34m0\u001b[0m │ context_embedding[\u001b[38;5;34m0\u001b[0m][\u001b[38;5;34m…\u001b[0m │\n",
              "│                           │                        │                │ target_embedding[\u001b[38;5;34m0\u001b[0m][\u001b[38;5;34m0\u001b[0m] │\n",
              "└───────────────────────────┴────────────────────────┴────────────────┴────────────────────────┘\n"
            ],
            "text/html": [
              "<pre style=\"white-space:pre;overflow-x:auto;line-height:normal;font-family:Menlo,'DejaVu Sans Mono',consolas,'Courier New',monospace\">┏━━━━━━━━━━━━━━━━━━━━━━━━━━━┳━━━━━━━━━━━━━━━━━━━━━━━━┳━━━━━━━━━━━━━━━━┳━━━━━━━━━━━━━━━━━━━━━━━━┓\n",
              "┃<span style=\"font-weight: bold\"> Layer (type)              </span>┃<span style=\"font-weight: bold\"> Output Shape           </span>┃<span style=\"font-weight: bold\">        Param # </span>┃<span style=\"font-weight: bold\"> Connected to           </span>┃\n",
              "┡━━━━━━━━━━━━━━━━━━━━━━━━━━━╇━━━━━━━━━━━━━━━━━━━━━━━━╇━━━━━━━━━━━━━━━━╇━━━━━━━━━━━━━━━━━━━━━━━━┩\n",
              "│ context_input             │ (<span style=\"color: #00d7ff; text-decoration-color: #00d7ff\">None</span>, <span style=\"color: #00af00; text-decoration-color: #00af00\">5</span>)              │              <span style=\"color: #00af00; text-decoration-color: #00af00\">0</span> │ -                      │\n",
              "│ (<span style=\"color: #0087ff; text-decoration-color: #0087ff\">InputLayer</span>)              │                        │                │                        │\n",
              "├───────────────────────────┼────────────────────────┼────────────────┼────────────────────────┤\n",
              "│ target_input (<span style=\"color: #0087ff; text-decoration-color: #0087ff\">InputLayer</span>) │ (<span style=\"color: #00d7ff; text-decoration-color: #00d7ff\">None</span>, <span style=\"color: #00af00; text-decoration-color: #00af00\">1</span>)              │              <span style=\"color: #00af00; text-decoration-color: #00af00\">0</span> │ -                      │\n",
              "├───────────────────────────┼────────────────────────┼────────────────┼────────────────────────┤\n",
              "│ context_embedding         │ (<span style=\"color: #00d7ff; text-decoration-color: #00d7ff\">None</span>, <span style=\"color: #00af00; text-decoration-color: #00af00\">5</span>, <span style=\"color: #00af00; text-decoration-color: #00af00\">128</span>)         │      <span style=\"color: #00af00; text-decoration-color: #00af00\">1,920,000</span> │ context_input[<span style=\"color: #00af00; text-decoration-color: #00af00\">0</span>][<span style=\"color: #00af00; text-decoration-color: #00af00\">0</span>]    │\n",
              "│ (<span style=\"color: #0087ff; text-decoration-color: #0087ff\">Embedding</span>)               │                        │                │                        │\n",
              "├───────────────────────────┼────────────────────────┼────────────────┼────────────────────────┤\n",
              "│ target_embedding          │ (<span style=\"color: #00d7ff; text-decoration-color: #00d7ff\">None</span>, <span style=\"color: #00af00; text-decoration-color: #00af00\">1</span>, <span style=\"color: #00af00; text-decoration-color: #00af00\">128</span>)         │      <span style=\"color: #00af00; text-decoration-color: #00af00\">1,920,000</span> │ target_input[<span style=\"color: #00af00; text-decoration-color: #00af00\">0</span>][<span style=\"color: #00af00; text-decoration-color: #00af00\">0</span>]     │\n",
              "│ (<span style=\"color: #0087ff; text-decoration-color: #0087ff\">Embedding</span>)               │                        │                │                        │\n",
              "├───────────────────────────┼────────────────────────┼────────────────┼────────────────────────┤\n",
              "│ dot (<span style=\"color: #0087ff; text-decoration-color: #0087ff\">Dot</span>)                 │ (<span style=\"color: #00d7ff; text-decoration-color: #00d7ff\">None</span>, <span style=\"color: #00af00; text-decoration-color: #00af00\">5</span>, <span style=\"color: #00af00; text-decoration-color: #00af00\">1</span>)           │              <span style=\"color: #00af00; text-decoration-color: #00af00\">0</span> │ context_embedding[<span style=\"color: #00af00; text-decoration-color: #00af00\">0</span>][<span style=\"color: #00af00; text-decoration-color: #00af00\">…</span> │\n",
              "│                           │                        │                │ target_embedding[<span style=\"color: #00af00; text-decoration-color: #00af00\">0</span>][<span style=\"color: #00af00; text-decoration-color: #00af00\">0</span>] │\n",
              "└───────────────────────────┴────────────────────────┴────────────────┴────────────────────────┘\n",
              "</pre>\n"
            ]
          },
          "metadata": {}
        },
        {
          "output_type": "display_data",
          "data": {
            "text/plain": [
              "\u001b[1m Total params: \u001b[0m\u001b[38;5;34m3,840,000\u001b[0m (14.65 MB)\n"
            ],
            "text/html": [
              "<pre style=\"white-space:pre;overflow-x:auto;line-height:normal;font-family:Menlo,'DejaVu Sans Mono',consolas,'Courier New',monospace\"><span style=\"font-weight: bold\"> Total params: </span><span style=\"color: #00af00; text-decoration-color: #00af00\">3,840,000</span> (14.65 MB)\n",
              "</pre>\n"
            ]
          },
          "metadata": {}
        },
        {
          "output_type": "display_data",
          "data": {
            "text/plain": [
              "\u001b[1m Trainable params: \u001b[0m\u001b[38;5;34m3,840,000\u001b[0m (14.65 MB)\n"
            ],
            "text/html": [
              "<pre style=\"white-space:pre;overflow-x:auto;line-height:normal;font-family:Menlo,'DejaVu Sans Mono',consolas,'Courier New',monospace\"><span style=\"font-weight: bold\"> Trainable params: </span><span style=\"color: #00af00; text-decoration-color: #00af00\">3,840,000</span> (14.65 MB)\n",
              "</pre>\n"
            ]
          },
          "metadata": {}
        },
        {
          "output_type": "display_data",
          "data": {
            "text/plain": [
              "\u001b[1m Non-trainable params: \u001b[0m\u001b[38;5;34m0\u001b[0m (0.00 B)\n"
            ],
            "text/html": [
              "<pre style=\"white-space:pre;overflow-x:auto;line-height:normal;font-family:Menlo,'DejaVu Sans Mono',consolas,'Courier New',monospace\"><span style=\"font-weight: bold\"> Non-trainable params: </span><span style=\"color: #00af00; text-decoration-color: #00af00\">0</span> (0.00 B)\n",
              "</pre>\n"
            ]
          },
          "metadata": {}
        }
      ]
    },
    {
      "cell_type": "markdown",
      "source": [
        "### Train Model"
      ],
      "metadata": {
        "id": "xlQ-Snji0cSp"
      },
      "id": "xlQ-Snji0cSp"
    },
    {
      "cell_type": "code",
      "source": [
        "from sklearn.model_selection import train_test_split\n",
        "\n",
        "targets_train, targets_val, contexts_train, contexts_val, labels_train, labels_val = train_test_split(targets, contexts, labels, test_size=0.33, random_state=seed)"
      ],
      "metadata": {
        "id": "gHfA5RnC1AyE"
      },
      "id": "gHfA5RnC1AyE",
      "execution_count": null,
      "outputs": []
    },
    {
      "cell_type": "code",
      "source": [
        "from tensorflow.keras.losses import CategoricalCrossentropy\n",
        "from tensorflow.keras.optimizers import Adam\n",
        "from tensorflow.keras.callbacks import TensorBoard, EarlyStopping\n",
        "\n",
        "lr_adam = 1e-3\n",
        "epochs = 20\n",
        "patience = 5\n",
        "batch_size = 1024\n",
        "\n",
        "loss_fn = CategoricalCrossentropy(from_logits=True)\n",
        "\n",
        "optimizer = Adam(lr_adam)\n",
        "\n",
        "word2vec.compile(optimizer=optimizer, loss=loss_fn, metrics=['accuracy'])\n",
        "\n",
        "# Add callbacks\n",
        "tensorboard_callback = TensorBoard(log_dir=\"model_logs\")\n",
        "early_stopping_cb = EarlyStopping(patience=patience, restore_best_weights=True, monitor='val_loss')\n",
        "\n",
        "history = word2vec.fit(\n",
        "    x=(targets_train, contexts_train),\n",
        "    y=labels_train,\n",
        "    batch_size=batch_size,\n",
        "    epochs=epochs,\n",
        "    validation_data=((targets_val, contexts_val), labels_val),\n",
        "    callbacks=[tensorboard_callback, early_stopping_cb]\n",
        ")"
      ],
      "metadata": {
        "id": "RkFQdi3LB552",
        "colab": {
          "base_uri": "https://localhost:8080/"
        },
        "outputId": "d72a4f3d-a326-4a89-a651-5f59d2223cf7"
      },
      "id": "RkFQdi3LB552",
      "execution_count": null,
      "outputs": [
        {
          "output_type": "stream",
          "name": "stdout",
          "text": [
            "Epoch 1/20\n",
            "\u001b[1m2427/2427\u001b[0m \u001b[32m━━━━━━━━━━━━━━━━━━━━\u001b[0m\u001b[37m\u001b[0m \u001b[1m113s\u001b[0m 46ms/step - accuracy: 0.8200 - loss: 1.3733 - val_accuracy: 0.8619 - val_loss: 0.8969\n",
            "Epoch 2/20\n",
            "\u001b[1m2427/2427\u001b[0m \u001b[32m━━━━━━━━━━━━━━━━━━━━\u001b[0m\u001b[37m\u001b[0m \u001b[1m146s\u001b[0m 48ms/step - accuracy: 0.8637 - loss: 0.8500 - val_accuracy: 0.8647 - val_loss: 0.8428\n",
            "Epoch 3/20\n",
            "\u001b[1m2427/2427\u001b[0m \u001b[32m━━━━━━━━━━━━━━━━━━━━\u001b[0m\u001b[37m\u001b[0m \u001b[1m149s\u001b[0m 50ms/step - accuracy: 0.8663 - loss: 0.7741 - val_accuracy: 0.8660 - val_loss: 0.8318\n",
            "Epoch 4/20\n",
            "\u001b[1m2427/2427\u001b[0m \u001b[32m━━━━━━━━━━━━━━━━━━━━\u001b[0m\u001b[37m\u001b[0m \u001b[1m127s\u001b[0m 44ms/step - accuracy: 0.8680 - loss: 0.7261 - val_accuracy: 0.8669 - val_loss: 0.8346\n",
            "Epoch 5/20\n",
            "\u001b[1m2427/2427\u001b[0m \u001b[32m━━━━━━━━━━━━━━━━━━━━\u001b[0m\u001b[37m\u001b[0m \u001b[1m137s\u001b[0m 42ms/step - accuracy: 0.8697 - loss: 0.6883 - val_accuracy: 0.8675 - val_loss: 0.8447\n",
            "Epoch 6/20\n",
            "\u001b[1m2427/2427\u001b[0m \u001b[32m━━━━━━━━━━━━━━━━━━━━\u001b[0m\u001b[37m\u001b[0m \u001b[1m143s\u001b[0m 43ms/step - accuracy: 0.8713 - loss: 0.6575 - val_accuracy: 0.8679 - val_loss: 0.8594\n",
            "Epoch 7/20\n",
            "\u001b[1m2427/2427\u001b[0m \u001b[32m━━━━━━━━━━━━━━━━━━━━\u001b[0m\u001b[37m\u001b[0m \u001b[1m152s\u001b[0m 47ms/step - accuracy: 0.8728 - loss: 0.6324 - val_accuracy: 0.8679 - val_loss: 0.8769\n",
            "Epoch 8/20\n",
            "\u001b[1m2427/2427\u001b[0m \u001b[32m━━━━━━━━━━━━━━━━━━━━\u001b[0m\u001b[37m\u001b[0m \u001b[1m134s\u001b[0m 43ms/step - accuracy: 0.8742 - loss: 0.6120 - val_accuracy: 0.8677 - val_loss: 0.8960\n"
          ]
        }
      ]
    },
    {
      "cell_type": "markdown",
      "source": [
        "### Save Model"
      ],
      "metadata": {
        "id": "HqyDDPbyyRuf"
      },
      "id": "HqyDDPbyyRuf"
    },
    {
      "cell_type": "code",
      "source": [
        "word2vec.save(f\"word2vec_model_w{CONTEXT_WINDOW}_ns{NUMBER_OF_NEG_SAMPLES}.keras\", include_optimizer=True)"
      ],
      "metadata": {
        "id": "NMlBCumFydv0"
      },
      "id": "NMlBCumFydv0",
      "execution_count": null,
      "outputs": []
    },
    {
      "cell_type": "markdown",
      "source": [
        "### Save Embeddings\n",
        "\n",
        "The embedding are in fact the target weights."
      ],
      "metadata": {
        "id": "gRuz_JcvylwY"
      },
      "id": "gRuz_JcvylwY"
    },
    {
      "cell_type": "code",
      "execution_count": 35,
      "id": "46778d77-bc61-4c4f-8d68-dc39650a2f23",
      "metadata": {
        "id": "46778d77-bc61-4c4f-8d68-dc39650a2f23"
      },
      "outputs": [],
      "source": [
        "import pyarrow\n",
        "import pyarrow.parquet as pq\n",
        "\n",
        "def save_embeddings(model: tf.keras.Model, vocabulary: List[str], path: str):\n",
        "    \"\"\"\n",
        "    Save the embeddings\n",
        "    param: model: the trained tf model\n",
        "    param: vocabulary: list of tokens\n",
        "    param: path: the path to save the embeddings map\n",
        "    \"\"\"\n",
        "    # Extract the weights from the Word2Vec embedding layer\n",
        "    weights = model.get_layer('target_embedding').get_weights()[0]\n",
        "\n",
        "    # Create a dictionary mapping words to their corresponding embeddings\n",
        "    embeddings_dict = {vocabulary[i]: weights[i] for i in range(len(vocabulary)-1)}\n",
        "\n",
        "    # Convert the dictionary to a PyArrow table\n",
        "    words = list(embeddings_dict.keys())\n",
        "    embeddings = [embeddings_dict[word] for word in words]\n",
        "\n",
        "    table = pyarrow.Table.from_pydict({'word': words, 'embedding': embeddings})\n",
        "\n",
        "    # Save the table as a Parquet file\n",
        "    pq.write_table(table, path)\n",
        "\n",
        "\n",
        "def load_embeddings(path: str):\n",
        "    \"\"\"\n",
        "    Load the embeddings from a Parquet file.\n",
        "    param path: the path to the Parquet file containing the embeddings map\n",
        "    return: a dictionary mapping words to their corresponding embeddings\n",
        "    \"\"\"\n",
        "    # Read the table from the Parquet file\n",
        "    table = pq.read_table(path)\n",
        "\n",
        "    # Convert the table columns to lists\n",
        "    words = table['word'].to_pylist()\n",
        "    embeddings = table['embedding'].to_pylist()\n",
        "\n",
        "    # Create a dictionary mapping words to embeddings\n",
        "    embeddings_dict = dict(zip(words, embeddings))\n",
        "\n",
        "    return embeddings_dict\n",
        "\n",
        "save_embeddings(word2vec, REVERSE_VOCABULARY, 'word2vec_embeddings.parquet')\n",
        "EMBEDDINGS = load_embeddings('word2vec_embeddings.parquet')"
      ]
    },
    {
      "cell_type": "markdown",
      "id": "2mmlsWIIN1hk",
      "metadata": {
        "id": "2mmlsWIIN1hk"
      },
      "source": [
        "## Visualization"
      ]
    },
    {
      "cell_type": "markdown",
      "source": [
        "### TSNE"
      ],
      "metadata": {
        "id": "hkE_lQZxfKne"
      },
      "id": "hkE_lQZxfKne"
    },
    {
      "cell_type": "code",
      "execution_count": 11,
      "id": "1bTHreZNN3Yw",
      "metadata": {
        "id": "1bTHreZNN3Yw",
        "colab": {
          "base_uri": "https://localhost:8080/",
          "height": 641
        },
        "outputId": "1ea21dd2-cdff-4313-bbb4-2b8f40904901"
      },
      "outputs": [
        {
          "output_type": "display_data",
          "data": {
            "text/plain": [
              "<Figure size 1000x700 with 1 Axes>"
            ],
            "image/png": "[encoded data removed]"
          },
          "metadata": {}
        }
      ],
      "source": [
        "from sklearn.manifold import TSNE\n",
        "import matplotlib.pyplot as plt\n",
        "\n",
        "visualization_list = [\n",
        "    \"hotel\", \"bed\", \"pillow\", \"room\", \"tv\", \"ac\", \"view\", \"bathroom\",\n",
        "    \"bar\", \"cafe\", \"diner\", \"restaurant\", \"pub\",\n",
        "    \"breakfast\", \"lunch\", \"dinner\", \"meal\",\n",
        "    \"driver\", \"taxi\", \"car\", \"bus\", \"train\", \"airport\", \"subway\",\n",
        "    \"money\", \"price\", \"expensive\", \"cheap\",\n",
        "    \"good\", \"bad\", \"clean\", \"dirty\", \"happy\", \"hot\", \"cold\",\n",
        "    \"walk\", \"walking\", \"drive\", \"driving\", \"sleep\", \"sleeping\",\n",
        "    \"pizza\", \"hamburger\", \"pasta\", \"fries\", \"steak\", \"eat\",\n",
        "    \"drink\", \"beer\", \"wine\", \"cocktail\", \"coke\", \"water\", \"coffee\", \"tea\", \"juice\"\n",
        "]\n",
        "\n",
        "def tsne_plot(visualization_list: List[str], embeddings: Dict[str, List[float]]):\n",
        "\n",
        "    wordvecs = []\n",
        "\n",
        "    for word in visualization_list:\n",
        "        wordvecs.append(embeddings[word])\n",
        "\n",
        "    wordvecs = np.array(wordvecs)\n",
        "\n",
        "    tsne_model = TSNE(perplexity=3, n_components=2, init='pca', random_state=42)\n",
        "    coordinates = tsne_model.fit_transform(wordvecs)\n",
        "\n",
        "    x = []\n",
        "    y = []\n",
        "    for value in coordinates:\n",
        "        x.append(value[0])\n",
        "        y.append(value[1])\n",
        "\n",
        "    plt.figure(figsize=(10,7))\n",
        "    for i in range(len(x)):\n",
        "        plt.scatter(x[i], y[i])\n",
        "        plt.annotate(visualization_list[i],\n",
        "                     xy=(x[i], y[i]),\n",
        "                     xytext=(-4, 3),\n",
        "                     textcoords='offset points',\n",
        "                     ha='right',\n",
        "                     va='bottom',\n",
        "                     fontsize=8)\n",
        "\n",
        "    plt.title('Word Embeddings Visualization')\n",
        "    plt.xlabel('Component 1')\n",
        "    plt.ylabel('Component 2')\n",
        "\n",
        "    plt.show()\n",
        "\n",
        "tsne_plot(visualization_list, EMBEDDINGS)\n"
      ]
    },
    {
      "cell_type": "markdown",
      "source": [
        "We can see very clear patterns and clusters!"
      ],
      "metadata": {
        "id": "DhA27-YSmXId"
      },
      "id": "DhA27-YSmXId"
    },
    {
      "cell_type": "markdown",
      "id": "aa43790f-8dce-4aea-823d-811485bff72e",
      "metadata": {
        "id": "aa43790f-8dce-4aea-823d-811485bff72e"
      },
      "source": [
        "### Dimentionality Reduction\n",
        "\n",
        "visualize some clusters (pick some subset of words to show the labels for)"
      ]
    },
    {
      "cell_type": "code",
      "execution_count": 45,
      "id": "6cf194e2-78e5-41ee-af40-f7d846786c84",
      "metadata": {
        "id": "6cf194e2-78e5-41ee-af40-f7d846786c84"
      },
      "outputs": [],
      "source": [
        "from sklearn.decomposition import PCA\n",
        "from sklearn.cluster import KMeans\n",
        "import kneed\n",
        "import matplotlib.pyplot as plt\n",
        "import plotly.express as px\n",
        "import warnings\n",
        "warnings.filterwarnings('ignore')\n",
        "\n",
        "def dimentionality_reduction(visualization_list: List[str],\n",
        "                             embeddings: Dict[str, List[float]],\n",
        "                             vocabulary: Dict[str, int],\n",
        "                             n_components: int,\n",
        "                             seed: int) \\\n",
        "                              -> List[Tuple[float, float]]:\n",
        "    \"\"\" Apply PCA to embeddings \"\"\"\n",
        "    emb_vectors = np.array([embeddings[word] for word in visualization_list])\n",
        "\n",
        "    pca_model = PCA(n_components = n_components, random_state=seed)\n",
        "    coordinates = pca_model.fit_transform(emb_vectors)\n",
        "\n",
        "    return coordinates\n",
        "\n",
        "\n",
        "def kmeans_best_k(visualization_list: List[str],\n",
        "                             vocabulary: Dict[str, int],\n",
        "                             embeddings: Dict[str, List[float]],\n",
        "                             n_components: int,\n",
        "                             seed: int,\n",
        "                             k: Optional[int] = None):\n",
        "    \"\"\" Kmeans clustering visualization \"\"\"\n",
        "\n",
        "    coordinates = dimentionality_reduction(visualization_list, embeddings, vocabulary, n_components, seed)\n",
        "\n",
        "    if k is None:\n",
        "      inertias=[]\n",
        "      for i in range(1, 11):\n",
        "        kmeans = KMeans(n_clusters=i, random_state=seed)\n",
        "        kmeans.fit(coordinates)\n",
        "        inertias.append(kmeans.inertia_)\n",
        "\n",
        "      kneedle = kneed.KneeLocator(range(1, 11), inertias, curve='convex', direction='decreasing', S=0.1)\n",
        "      k = kneedle.knee\n",
        "\n",
        "      # Elbow plot\n",
        "\n",
        "      plt.figure(figsize=(10, 5))\n",
        "      plt.plot(range(1, 11), inertias, \"bo-\")\n",
        "      plt.xlabel(\"$k$\", fontsize=14)\n",
        "      plt.ylabel(\"Inertia\", fontsize=14)\n",
        "      plt.annotate('Elbow',\n",
        "                  xy=(k, inertias[k-1]),\n",
        "                  xytext=(0.55, 0.55),\n",
        "                  textcoords='figure fraction',\n",
        "                  fontsize=10,\n",
        "                  arrowprops=dict(facecolor='black', shrink=0.05)\n",
        "                  )\n",
        "\n",
        "    kmeans = KMeans(n_clusters=k, random_state=seed)\n",
        "    kmeans.fit(coordinates)\n",
        "    cluster_labels = kmeans.labels_\n",
        "\n",
        "    plt.show()\n",
        "    return coordinates, cluster_labels"
      ]
    },
    {
      "cell_type": "code",
      "source": [
        "coordinates, cluster_labels = kmeans_best_k(visualization_list, vocabulary=VOCABULARY, embeddings=EMBEDDINGS, n_components = 3, seed=seed, k = None)"
      ],
      "metadata": {
        "colab": {
          "base_uri": "https://localhost:8080/",
          "height": 470
        },
        "id": "tF0J9NcIBGqy",
        "outputId": "f1d7366b-e36f-4f53-a88e-03d38e377b4c"
      },
      "id": "tF0J9NcIBGqy",
      "execution_count": 46,
      "outputs": [
        {
          "output_type": "display_data",
          "data": {
            "text/plain": [
              "<Figure size 1000x500 with 1 Axes>"
            ],
            "image/png": "[encoded data removed]"
          },
          "metadata": {}
        }
      ]
    },
    {
      "cell_type": "code",
      "source": [
        "def plot_clusters(coordinates: List[Tuple[float]], cluster_labels: list[int], n_components: int = 3):\n",
        "    if n_components == 3:\n",
        "\n",
        "        x = [coord[0] for coord in coordinates]\n",
        "        y = [coord[1] for coord in coordinates]\n",
        "        z = [coord[2] for coord in coordinates]\n",
        "\n",
        "        fig = px.scatter_3d(x=x, y=y, z=z,\n",
        "                            color=cluster_labels,\n",
        "                            text=visualization_list,\n",
        "                            labels={\"x\": \"Component 1\", \"y\": \"Component 2\", \"z\": \"Component 3\"})  # Create a 3D axes\n",
        "        fig.show()\n",
        "\n",
        "    elif n_components==2:\n",
        "\n",
        "        fig = plt.figure(figsize=(10,10))\n",
        "        ax = fig.add_subplot(111)\n",
        "        for i in range(len(coordinates)):\n",
        "            x, y = coordinates[i][:2]  # Only take the first two components for 2D plotting\n",
        "            plt.scatter(x, y, c=cluster_labels[i])\n",
        "            plt.annotate(labels[i],\n",
        "                         xy=(x, y),\n",
        "                         xytext=(-4, 3),\n",
        "                         textcoords='offset points',\n",
        "                         ha='right',\n",
        "                         va='bottom')\n",
        "        ax.set_xlabel('Component 1')\n",
        "        ax.set_ylabel('Component 2')\n",
        "        plt.show()"
      ],
      "metadata": {
        "id": "OTPnTPR1qwY_"
      },
      "id": "OTPnTPR1qwY_",
      "execution_count": 47,
      "outputs": []
    },
    {
      "cell_type": "code",
      "source": [
        "plot_clusters(coordinates, cluster_labels, n_components=3)"
      ],
      "metadata": {
        "colab": {
          "base_uri": "https://localhost:8080/",
          "height": 542
        },
        "id": "J_RIEd7csKmD",
        "outputId": "8709252d-4424-445e-edee-84f4c4585290"
      },
      "id": "J_RIEd7csKmD",
      "execution_count": 48,
      "outputs": [
        {
          "output_type": "display_data",
          "data": {
            "text/html": [
              "<html>\n",
              "<head><meta charset=\"utf-8\" /></head>\n",
              "<body>\n",
              "    <div>            <script src=\"https://cdnjs.cloudflare.com/ajax/libs/mathjax/2.7.5/MathJax.js?config=TeX-AMS-MML_SVG\"></script><script type=\"text/javascript\">if (window.MathJax && window.MathJax.Hub && window.MathJax.Hub.Config) {window.MathJax.Hub.Config({SVG: {font: \"STIX-Web\"}});}</script>                <script type=\"text/javascript\">window.PlotlyConfig = {MathJaxConfig: 'local'};</script>\n",
              "        <script charset=\"utf-8\" src=\"https://cdn.plot.ly/plotly-2.24.1.min.js\"></script>                <div id=\"7615c6ca-49aa-4a85-89c0-2db97d679207\" class=\"plotly-graph-div\" style=\"height:525px; width:100%;\"></div>            <script type=\"text/javascript\">                                    window.PLOTLYENV=window.PLOTLYENV || {};                                    if (document.getElementById(\"7615c6ca-49aa-4a85-89c0-2db97d679207\")) {                    Plotly.newPlot(                        \"7615c6ca-49aa-4a85-89c0-2db97d679207\",                        [{\"hovertemplate\":\"Component 1=%{x}\\u003cbr\\u003eComponent 2=%{y}\\u003cbr\\u003eComponent 3=%{z}\\u003cbr\\u003etext=%{text}\\u003cbr\\u003ecolor=%{marker.color}\\u003cextra\\u003e\\u003c\\u002fextra\\u003e\",\"legendgroup\":\"\",\"marker\":{\"color\":[3,3,0,3,3,3,3,3,2,2,2,2,2,2,2,2,2,1,1,1,1,1,1,1,3,3,2,3,3,3,3,3,0,0,0,1,1,1,1,3,3,2,2,2,2,2,2,2,2,0,2,0,0,0,0,0],\"coloraxis\":\"coloraxis\",\"symbol\":\"circle\"},\"mode\":\"markers+text\",\"name\":\"\",\"scene\":\"scene\",\"showlegend\":false,\"text\":[\"hotel\",\"bed\",\"pillow\",\"room\",\"tv\",\"ac\",\"view\",\"bathroom\",\"bar\",\"cafe\",\"diner\",\"restaurant\",\"pub\",\"breakfast\",\"lunch\",\"dinner\",\"meal\",\"driver\",\"taxi\",\"car\",\"bus\",\"train\",\"airport\",\"subway\",\"money\",\"price\",\"expensive\",\"cheap\",\"good\",\"bad\",\"clean\",\"dirty\",\"happy\",\"hot\",\"cold\",\"walk\",\"walking\",\"drive\",\"driving\",\"sleep\",\"sleeping\",\"pizza\",\"hamburger\",\"pasta\",\"fries\",\"steak\",\"eat\",\"drink\",\"beer\",\"wine\",\"cocktail\",\"coke\",\"water\",\"coffee\",\"tea\",\"juice\"],\"x\":[0.23242527285110662,-0.6247888040212949,-0.742672614249586,-0.3203480590803083,-0.7245987452840655,-0.6644238276913772,-0.4412137985432463,-0.7572935323950868,-0.6750906782885335,0.12434647717788619,0.14966076679585258,-0.20545011294270835,0.2030519653507958,-0.387921088240381,0.06057270463064145,-0.1052235864150054,-0.37429581488641683,1.011773320515832,1.5130140748169127,0.9607775791743168,1.7208357481987897,1.5237896594348588,1.4449282366064462,1.4036277265943842,0.4527255245507278,-0.0016210763694837263,0.10331699773480699,0.3035608381691912,-0.14697001740179388,-0.20912917685230695,-0.7580197202015212,-0.49871078172857053,-0.24333110127859894,-0.6905364026100106,-0.788537815042742,1.0737683958525839,1.0558407251481121,1.2384650392294514,1.1223648738060996,-0.18196720114279882,0.054070359991257394,0.15166972002202225,-0.04600859724647774,-0.09191985838462945,-0.7090659152392361,-0.1623465218807032,0.338994153234429,-0.3349748525159874,-0.6033578668224304,-0.6887544298171536,-0.3228710825288229,-0.2535893127814198,-0.6980254099522215,-0.906946308707088,-1.0240367668874577,-0.8595392824570393],\"y\":[0.443445852747082,1.1290856456430023,0.23013464954972268,0.7436368190174929,1.1280833940510369,1.2248479949272377,0.4081653959720973,1.0751676278826687,-0.5545821047250352,-0.6943546778076687,-0.7994770626787882,-0.6083196156977105,-0.8525091897369766,-0.510884919412532,-0.895142414268536,-0.8528654599205148,-0.623653861806394,-0.21482113496905253,0.0377554858067435,-0.04208503034128884,-0.14973982479954986,0.255446989646605,0.21558355206894483,0.19934799690662172,0.5413469491113456,0.7321913549491299,-0.10150146783110087,0.4785811401614749,0.5294207683816909,0.6130003273628001,1.1980438506257087,1.0141641634311658,0.06414891908674455,0.14190561886795747,0.1330345969284052,0.34496907214605577,0.3138749892739937,0.11787874470263174,0.2920904337252716,0.8564879363894823,0.9395337811662702,-0.7402804617321195,-0.4206306906049553,-0.780807657737967,-0.5925376006626988,-0.8233527866393615,-0.7220737102457296,-0.7171363639322362,-0.7075273515159884,-0.8573162035196075,-0.9556377338388556,-0.14994983978066165,0.33123976027290847,-0.3467857324522956,-0.39902495021111584,-0.6196159639335519],\"z\":[-0.8415916726292167,-0.17471931118726455,0.22892266531900296,-0.0664407571553001,-0.041945527916692225,0.16714973325893803,-0.47958294684212943,-0.3613307227356788,-0.3405107661066617,-0.9942127462340999,-1.0328794622495123,-0.6692977742273057,-0.9520274496578173,-0.057191411119564675,-0.18421725052702811,-0.12102191825905577,-0.2406184135384116,0.47262053166503176,0.4838919300211763,0.5836055172637062,0.38977174996720715,0.2822114106592525,0.4993169426373377,0.02228286314795114,-0.610779084157478,-0.7666844968045182,-0.08915293368874778,-0.5244546730056627,-0.4310994289725831,-0.25624971853959594,-0.34878576411026047,-0.2058334298942243,0.2209441339783745,0.5401505617783415,0.4048418741757379,0.3741960925037785,-0.1893838788871083,0.5428034274051938,0.20712433950161652,0.10867695357647389,0.3051453985339755,-0.2644232068899367,-0.14338596815679838,-0.28936528903712894,-0.09710465263196887,-0.6646882161550628,-0.3366179498734616,0.19241025653665572,0.19223859651827913,0.8458611730056838,0.17447140256827431,0.9696910352347747,0.7337296339830649,0.951574507801787,1.2090360440711783,0.6729280460774775],\"type\":\"scatter3d\"}],                        {\"template\":{\"data\":{\"histogram2dcontour\":[{\"type\":\"histogram2dcontour\",\"colorbar\":{\"outlinewidth\":0,\"ticks\":\"\"},\"colorscale\":[[0.0,\"#0d0887\"],[0.1111111111111111,\"#46039f\"],[0.2222222222222222,\"#7201a8\"],[0.3333333333333333,\"#9c179e\"],[0.4444444444444444,\"#bd3786\"],[0.5555555555555556,\"#d8576b\"],[0.6666666666666666,\"#ed7953\"],[0.7777777777777778,\"#fb9f3a\"],[0.8888888888888888,\"#fdca26\"],[1.0,\"#f0f921\"]]}],\"choropleth\":[{\"type\":\"choropleth\",\"colorbar\":{\"outlinewidth\":0,\"ticks\":\"\"}}],\"histogram2d\":[{\"type\":\"histogram2d\",\"colorbar\":{\"outlinewidth\":0,\"ticks\":\"\"},\"colorscale\":[[0.0,\"#0d0887\"],[0.1111111111111111,\"#46039f\"],[0.2222222222222222,\"#7201a8\"],[0.3333333333333333,\"#9c179e\"],[0.4444444444444444,\"#bd3786\"],[0.5555555555555556,\"#d8576b\"],[0.6666666666666666,\"#ed7953\"],[0.7777777777777778,\"#fb9f3a\"],[0.8888888888888888,\"#fdca26\"],[1.0,\"#f0f921\"]]}],\"heatmap\":[{\"type\":\"heatmap\",\"colorbar\":{\"outlinewidth\":0,\"ticks\":\"\"},\"colorscale\":[[0.0,\"#0d0887\"],[0.1111111111111111,\"#46039f\"],[0.2222222222222222,\"#7201a8\"],[0.3333333333333333,\"#9c179e\"],[0.4444444444444444,\"#bd3786\"],[0.5555555555555556,\"#d8576b\"],[0.6666666666666666,\"#ed7953\"],[0.7777777777777778,\"#fb9f3a\"],[0.8888888888888888,\"#fdca26\"],[1.0,\"#f0f921\"]]}],\"heatmapgl\":[{\"type\":\"heatmapgl\",\"colorbar\":{\"outlinewidth\":0,\"ticks\":\"\"},\"colorscale\":[[0.0,\"#0d0887\"],[0.1111111111111111,\"#46039f\"],[0.2222222222222222,\"#7201a8\"],[0.3333333333333333,\"#9c179e\"],[0.4444444444444444,\"#bd3786\"],[0.5555555555555556,\"#d8576b\"],[0.6666666666666666,\"#ed7953\"],[0.7777777777777778,\"#fb9f3a\"],[0.8888888888888888,\"#fdca26\"],[1.0,\"#f0f921\"]]}],\"contourcarpet\":[{\"type\":\"contourcarpet\",\"colorbar\":{\"outlinewidth\":0,\"ticks\":\"\"}}],\"contour\":[{\"type\":\"contour\",\"colorbar\":{\"outlinewidth\":0,\"ticks\":\"\"},\"colorscale\":[[0.0,\"#0d0887\"],[0.1111111111111111,\"#46039f\"],[0.2222222222222222,\"#7201a8\"],[0.3333333333333333,\"#9c179e\"],[0.4444444444444444,\"#bd3786\"],[0.5555555555555556,\"#d8576b\"],[0.6666666666666666,\"#ed7953\"],[0.7777777777777778,\"#fb9f3a\"],[0.8888888888888888,\"#fdca26\"],[1.0,\"#f0f921\"]]}],\"surface\":[{\"type\":\"surface\",\"colorbar\":{\"outlinewidth\":0,\"ticks\":\"\"},\"colorscale\":[[0.0,\"#0d0887\"],[0.1111111111111111,\"#46039f\"],[0.2222222222222222,\"#7201a8\"],[0.3333333333333333,\"#9c179e\"],[0.4444444444444444,\"#bd3786\"],[0.5555555555555556,\"#d8576b\"],[0.6666666666666666,\"#ed7953\"],[0.7777777777777778,\"#fb9f3a\"],[0.8888888888888888,\"#fdca26\"],[1.0,\"#f0f921\"]]}],\"mesh3d\":[{\"type\":\"mesh3d\",\"colorbar\":{\"outlinewidth\":0,\"ticks\":\"\"}}],\"scatter\":[{\"fillpattern\":{\"fillmode\":\"overlay\",\"size\":10,\"solidity\":0.2},\"type\":\"scatter\"}],\"parcoords\":[{\"type\":\"parcoords\",\"line\":{\"colorbar\":{\"outlinewidth\":0,\"ticks\":\"\"}}}],\"scatterpolargl\":[{\"type\":\"scatterpolargl\",\"marker\":{\"colorbar\":{\"outlinewidth\":0,\"ticks\":\"\"}}}],\"bar\":[{\"error_x\":{\"color\":\"#2a3f5f\"},\"error_y\":{\"color\":\"#2a3f5f\"},\"marker\":{\"line\":{\"color\":\"#E5ECF6\",\"width\":0.5},\"pattern\":{\"fillmode\":\"overlay\",\"size\":10,\"solidity\":0.2}},\"type\":\"bar\"}],\"scattergeo\":[{\"type\":\"scattergeo\",\"marker\":{\"colorbar\":{\"outlinewidth\":0,\"ticks\":\"\"}}}],\"scatterpolar\":[{\"type\":\"scatterpolar\",\"marker\":{\"colorbar\":{\"outlinewidth\":0,\"ticks\":\"\"}}}],\"histogram\":[{\"marker\":{\"pattern\":{\"fillmode\":\"overlay\",\"size\":10,\"solidity\":0.2}},\"type\":\"histogram\"}],\"scattergl\":[{\"type\":\"scattergl\",\"marker\":{\"colorbar\":{\"outlinewidth\":0,\"ticks\":\"\"}}}],\"scatter3d\":[{\"type\":\"scatter3d\",\"line\":{\"colorbar\":{\"outlinewidth\":0,\"ticks\":\"\"}},\"marker\":{\"colorbar\":{\"outlinewidth\":0,\"ticks\":\"\"}}}],\"scattermapbox\":[{\"type\":\"scattermapbox\",\"marker\":{\"colorbar\":{\"outlinewidth\":0,\"ticks\":\"\"}}}],\"scatterternary\":[{\"type\":\"scatterternary\",\"marker\":{\"colorbar\":{\"outlinewidth\":0,\"ticks\":\"\"}}}],\"scattercarpet\":[{\"type\":\"scattercarpet\",\"marker\":{\"colorbar\":{\"outlinewidth\":0,\"ticks\":\"\"}}}],\"carpet\":[{\"aaxis\":{\"endlinecolor\":\"#2a3f5f\",\"gridcolor\":\"white\",\"linecolor\":\"white\",\"minorgridcolor\":\"white\",\"startlinecolor\":\"#2a3f5f\"},\"baxis\":{\"endlinecolor\":\"#2a3f5f\",\"gridcolor\":\"white\",\"linecolor\":\"white\",\"minorgridcolor\":\"white\",\"startlinecolor\":\"#2a3f5f\"},\"type\":\"carpet\"}],\"table\":[{\"cells\":{\"fill\":{\"color\":\"#EBF0F8\"},\"line\":{\"color\":\"white\"}},\"header\":{\"fill\":{\"color\":\"#C8D4E3\"},\"line\":{\"color\":\"white\"}},\"type\":\"table\"}],\"barpolar\":[{\"marker\":{\"line\":{\"color\":\"#E5ECF6\",\"width\":0.5},\"pattern\":{\"fillmode\":\"overlay\",\"size\":10,\"solidity\":0.2}},\"type\":\"barpolar\"}],\"pie\":[{\"automargin\":true,\"type\":\"pie\"}]},\"layout\":{\"autotypenumbers\":\"strict\",\"colorway\":[\"#636efa\",\"#EF553B\",\"#00cc96\",\"#ab63fa\",\"#FFA15A\",\"#19d3f3\",\"#FF6692\",\"#B6E880\",\"#FF97FF\",\"#FECB52\"],\"font\":{\"color\":\"#2a3f5f\"},\"hovermode\":\"closest\",\"hoverlabel\":{\"align\":\"left\"},\"paper_bgcolor\":\"white\",\"plot_bgcolor\":\"#E5ECF6\",\"polar\":{\"bgcolor\":\"#E5ECF6\",\"angularaxis\":{\"gridcolor\":\"white\",\"linecolor\":\"white\",\"ticks\":\"\"},\"radialaxis\":{\"gridcolor\":\"white\",\"linecolor\":\"white\",\"ticks\":\"\"}},\"ternary\":{\"bgcolor\":\"#E5ECF6\",\"aaxis\":{\"gridcolor\":\"white\",\"linecolor\":\"white\",\"ticks\":\"\"},\"baxis\":{\"gridcolor\":\"white\",\"linecolor\":\"white\",\"ticks\":\"\"},\"caxis\":{\"gridcolor\":\"white\",\"linecolor\":\"white\",\"ticks\":\"\"}},\"coloraxis\":{\"colorbar\":{\"outlinewidth\":0,\"ticks\":\"\"}},\"colorscale\":{\"sequential\":[[0.0,\"#0d0887\"],[0.1111111111111111,\"#46039f\"],[0.2222222222222222,\"#7201a8\"],[0.3333333333333333,\"#9c179e\"],[0.4444444444444444,\"#bd3786\"],[0.5555555555555556,\"#d8576b\"],[0.6666666666666666,\"#ed7953\"],[0.7777777777777778,\"#fb9f3a\"],[0.8888888888888888,\"#fdca26\"],[1.0,\"#f0f921\"]],\"sequentialminus\":[[0.0,\"#0d0887\"],[0.1111111111111111,\"#46039f\"],[0.2222222222222222,\"#7201a8\"],[0.3333333333333333,\"#9c179e\"],[0.4444444444444444,\"#bd3786\"],[0.5555555555555556,\"#d8576b\"],[0.6666666666666666,\"#ed7953\"],[0.7777777777777778,\"#fb9f3a\"],[0.8888888888888888,\"#fdca26\"],[1.0,\"#f0f921\"]],\"diverging\":[[0,\"#8e0152\"],[0.1,\"#c51b7d\"],[0.2,\"#de77ae\"],[0.3,\"#f1b6da\"],[0.4,\"#fde0ef\"],[0.5,\"#f7f7f7\"],[0.6,\"#e6f5d0\"],[0.7,\"#b8e186\"],[0.8,\"#7fbc41\"],[0.9,\"#4d9221\"],[1,\"#276419\"]]},\"xaxis\":{\"gridcolor\":\"white\",\"linecolor\":\"white\",\"ticks\":\"\",\"title\":{\"standoff\":15},\"zerolinecolor\":\"white\",\"automargin\":true,\"zerolinewidth\":2},\"yaxis\":{\"gridcolor\":\"white\",\"linecolor\":\"white\",\"ticks\":\"\",\"title\":{\"standoff\":15},\"zerolinecolor\":\"white\",\"automargin\":true,\"zerolinewidth\":2},\"scene\":{\"xaxis\":{\"backgroundcolor\":\"#E5ECF6\",\"gridcolor\":\"white\",\"linecolor\":\"white\",\"showbackground\":true,\"ticks\":\"\",\"zerolinecolor\":\"white\",\"gridwidth\":2},\"yaxis\":{\"backgroundcolor\":\"#E5ECF6\",\"gridcolor\":\"white\",\"linecolor\":\"white\",\"showbackground\":true,\"ticks\":\"\",\"zerolinecolor\":\"white\",\"gridwidth\":2},\"zaxis\":{\"backgroundcolor\":\"#E5ECF6\",\"gridcolor\":\"white\",\"linecolor\":\"white\",\"showbackground\":true,\"ticks\":\"\",\"zerolinecolor\":\"white\",\"gridwidth\":2}},\"shapedefaults\":{\"line\":{\"color\":\"#2a3f5f\"}},\"annotationdefaults\":{\"arrowcolor\":\"#2a3f5f\",\"arrowhead\":0,\"arrowwidth\":1},\"geo\":{\"bgcolor\":\"white\",\"landcolor\":\"#E5ECF6\",\"subunitcolor\":\"white\",\"showland\":true,\"showlakes\":true,\"lakecolor\":\"white\"},\"title\":{\"x\":0.05},\"mapbox\":{\"style\":\"light\"}}},\"scene\":{\"domain\":{\"x\":[0.0,1.0],\"y\":[0.0,1.0]},\"xaxis\":{\"title\":{\"text\":\"Component 1\"}},\"yaxis\":{\"title\":{\"text\":\"Component 2\"}},\"zaxis\":{\"title\":{\"text\":\"Component 3\"}}},\"coloraxis\":{\"colorbar\":{\"title\":{\"text\":\"color\"}},\"colorscale\":[[0.0,\"#0d0887\"],[0.1111111111111111,\"#46039f\"],[0.2222222222222222,\"#7201a8\"],[0.3333333333333333,\"#9c179e\"],[0.4444444444444444,\"#bd3786\"],[0.5555555555555556,\"#d8576b\"],[0.6666666666666666,\"#ed7953\"],[0.7777777777777778,\"#fb9f3a\"],[0.8888888888888888,\"#fdca26\"],[1.0,\"#f0f921\"]]},\"legend\":{\"tracegroupgap\":0},\"margin\":{\"t\":60}},                        {\"responsive\": true}                    ).then(function(){\n",
              "                            \n",
              "var gd = document.getElementById('7615c6ca-49aa-4a85-89c0-2db97d679207');\n",
              "var x = new MutationObserver(function (mutations, observer) {{\n",
              "        var display = window.getComputedStyle(gd).display;\n",
              "        if (!display || display === 'none') {{\n",
              "            console.log([gd, 'removed!']);\n",
              "            Plotly.purge(gd);\n",
              "            observer.disconnect();\n",
              "        }}\n",
              "}});\n",
              "\n",
              "// Listen for the removal of the full notebook cells\n",
              "var notebookContainer = gd.closest('#notebook-container');\n",
              "if (notebookContainer) {{\n",
              "    x.observe(notebookContainer, {childList: true});\n",
              "}}\n",
              "\n",
              "// Listen for the clearing of the current output cell\n",
              "var outputEl = gd.closest('.output');\n",
              "if (outputEl) {{\n",
              "    x.observe(outputEl, {childList: true});\n",
              "}}\n",
              "\n",
              "                        })                };                            </script>        </div>\n",
              "</body>\n",
              "</html>"
            ]
          },
          "metadata": {}
        }
      ]
    },
    {
      "cell_type": "markdown",
      "id": "8fd18f62-3ec2-4707-98f5-8075e6ec8945",
      "metadata": {
        "id": "8fd18f62-3ec2-4707-98f5-8075e6ec8945"
      },
      "source": [
        "## Find Most Similar"
      ]
    },
    {
      "cell_type": "code",
      "source": [
        "from numpy.linalg import norm\n",
        "import heapq\n",
        "\n",
        "# cosine similarity\n",
        "def cosine_similarity(v1: List[int], v2: List[int]) -> float:\n",
        "    if norm(v1) > 0 and norm(v2) > 0:\n",
        "        return np.dot(v1, v2) / (norm(v1) * norm(v2))\n",
        "    else:\n",
        "        return 0.0\n",
        "\n",
        "def k_largest_elements(dictionary: Dict[str, int], k: int) -> List[Tuple[int, float]]:\n",
        "    \"\"\"\n",
        "    Finds the K largest elements in a dictionary by the values.\n",
        "    Algorithm: heapify the whole dictionary of N elements in O(N),\n",
        "    and then pop the k biggest values in O(k log N)\n",
        "    Complexity: O(N + k log(N)).\n",
        "    \"\"\"\n",
        "\n",
        "    # Create a list of tuples from the dictionary items\n",
        "    items = [(-value, key) for key, value in dictionary.items()]\n",
        "\n",
        "    # Create a min heap using the heapq module\n",
        "    heapq.heapify(items)\n",
        "\n",
        "    # Extract the K largest elements from the heap\n",
        "    largest_k = []\n",
        "    for _ in range(k):\n",
        "      value, key = heapq.heappop(items)\n",
        "      largest_k.append((key, -value))\n",
        "\n",
        "    return largest_k"
      ],
      "metadata": {
        "id": "FcbZShP1pKKA"
      },
      "id": "FcbZShP1pKKA",
      "execution_count": 37,
      "outputs": []
    },
    {
      "cell_type": "code",
      "execution_count": 38,
      "id": "466b69bd-718c-41e6-b9a2-3ff8a9b849bb",
      "metadata": {
        "id": "466b69bd-718c-41e6-b9a2-3ff8a9b849bb"
      },
      "outputs": [],
      "source": [
        "import time\n",
        "\n",
        "def find_most_similar(word: str, vocabulary: Dict[str, int], embeddings: Dict[str, List[float]], k: int = 10) -> List[Tuple[str, float]]:\n",
        "    \"\"\"\n",
        "    Find most similar tokens to word\n",
        "    param: word: the word to find most similar words to\n",
        "    k: number of most similar words\n",
        "    \"\"\"\n",
        "\n",
        "    start_time = time.time()\n",
        "\n",
        "    word_index = vocabulary[word]\n",
        "    embedding = embeddings[word]\n",
        "\n",
        "    word_cosine_similiraty_dict = {\n",
        "        word: cosine_similarity(v, embedding) for word, v in embeddings.items()\n",
        "    }\n",
        "\n",
        "    end_time = time.time()\n",
        "    total_time = end_time - start_time\n",
        "    print(f\"Time taken: {total_time} seconds \\n\")\n",
        "\n",
        "    return k_largest_elements(word_cosine_similiraty_dict, k+1)[1:]"
      ]
    },
    {
      "cell_type": "code",
      "source": [
        "# Must run this before\n",
        "VOCABULARY = load_vocabulary('vocabulary.parquet')\n",
        "EMBEDDINGS = load_embeddings('word2vec_embeddings.parquet')"
      ],
      "metadata": {
        "id": "kOEdHLn8u4R8"
      },
      "id": "kOEdHLn8u4R8",
      "execution_count": 40,
      "outputs": []
    },
    {
      "cell_type": "code",
      "source": [
        "find_most_similar('pizza', k=10, vocabulary=VOCABULARY, embeddings=EMBEDDINGS)"
      ],
      "metadata": {
        "colab": {
          "base_uri": "https://localhost:8080/"
        },
        "id": "_c9tyld1xwAJ",
        "outputId": "1c676245-4aa8-4663-c566-8770f2f159b1"
      },
      "id": "_c9tyld1xwAJ",
      "execution_count": 41,
      "outputs": [
        {
          "output_type": "stream",
          "name": "stdout",
          "text": [
            "Time taken: 1.3946001529693604 seconds \n",
            "\n"
          ]
        },
        {
          "output_type": "execute_result",
          "data": {
            "text/plain": [
              "[('sushi', 0.7853447811257531),\n",
              " ('chinese', 0.7828198734120626),\n",
              " ('italian', 0.778052210001072),\n",
              " ('deli', 0.7752336119347216),\n",
              " ('takeout', 0.7667025042249589),\n",
              " ('bbq', 0.7630213330652108),\n",
              " ('vendors', 0.761766347071223),\n",
              " ('mexican', 0.7486220546617124),\n",
              " ('mcdonalds', 0.7465815744101031),\n",
              " ('veggies', 0.7350613514116813)]"
            ]
          },
          "metadata": {},
          "execution_count": 41
        }
      ]
    }
  ],
  "metadata": {
    "colab": {
      "provenance": [],
      "toc_visible": true
    },
    "kernelspec": {
      "display_name": "Python 3",
      "name": "python3"
    },
    "language_info": {
      "codemirror_mode": {
        "name": "ipython",
        "version": 3
      },
      "file_extension": ".py",
      "mimetype": "text/x-python",
      "name": "python",
      "nbconvert_exporter": "python",
      "pygments_lexer": "ipython3",
      "version": "3.10.13"
    }
  },
  "nbformat": 4,
  "nbformat_minor": 5
}